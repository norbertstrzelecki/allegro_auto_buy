{
 "cells": [
  {
   "cell_type": "code",
   "execution_count": null,
   "metadata": {},
   "outputs": [],
   "source": [
    "import numpy as np\n",
    "import pandas as pd\n",
    "\n",
    "from suds.client import Client\n",
    "\n",
    "import hashlib\n",
    "import base64"
   ]
  },
  {
   "cell_type": "code",
   "execution_count": null,
   "metadata": {},
   "outputs": [],
   "source": [
    "api_key = 'your api key'\n",
    "app_login = 'your allegro login'\n",
    "app_pass = 'your allegro pass'\n",
    "\n",
    "product_id = 'product id you want to buy'\n",
    "product_to_buy = product_id\n",
    "\n",
    "client = Client('https://webapi.allegro.pl/service.php?wsdl')"
   ]
  },
  {
   "cell_type": "code",
   "execution_count": null,
   "metadata": {},
   "outputs": [],
   "source": [
    "# System session query\n",
    "response = client.service.doQueryAllSysStatus(webapiKey=api_key, countryId=1)\n",
    "\n",
    "# Hashing login session\n",
    "sha256_application_password = hashlib.sha256(app_pass.encode('utf-8')).digest()\n",
    "auth = client.service.doLoginEnc(\n",
    "    userLogin= app_login,\n",
    "    userHashPassword=base64.b64encode(sha256_application_password).decode('utf-8'), \n",
    "    countryCode=1,\n",
    "    webapiKey=api_key, \n",
    "    localVersion=response.item[0].verKey\n",
    ")\n",
    "\n",
    "# sessionId or sessionHandler\n",
    "session = auth.sessionHandlePart"
   ]
  },
  {
   "cell_type": "code",
   "execution_count": null,
   "metadata": {},
   "outputs": [],
   "source": [
    "# Checking item\n",
    "item_info = client.service.doShowItemInfoExt(\n",
    "                                            sessionHandle = session,\n",
    "                                            itemId = product_to_buy,\n",
    "                                            getDesc = 0,\n",
    "                                            getImageUrl = 0,\n",
    "                                            getAttribs = 1,\n",
    "                                            getPostageOptions = 0,\n",
    "                                            getCompanyInfo = 0,\n",
    "                                            getProductInfo = 1,\n",
    "                                            getAfterSalesServiceConditions = 0\n",
    "                                            )\n",
    "\n",
    "buy_now_price = item_info.itemListInfoExt.itBuyNowPrice\n",
    "product_name = item_info.itemListInfoExt.itName\n",
    "\n",
    "print(buy_now_price, 'PLN / ', product_name)"
   ]
  },
  {
   "cell_type": "code",
   "execution_count": null,
   "metadata": {},
   "outputs": [],
   "source": [
    "# Buying item\n",
    "buy_item = client.service.doBidItem(\n",
    "                                    sessionHandle = session,\n",
    "                                    bidItId = product_to_buy,\n",
    "                                    # Same proce as in Buy Now option\n",
    "                                    bidUserPrice = buy_now_price, \n",
    "                                    bidQuantity = 1,\n",
    "                                    bidBuyNow = 1\n",
    "                                    )\n",
    "print('Done')"
   ]
  },
  {
   "cell_type": "code",
   "execution_count": null,
   "metadata": {},
   "outputs": [],
   "source": []
  }
 ],
 "metadata": {
  "hide_input": false,
  "kernelspec": {
   "display_name": "Python 3",
   "language": "python",
   "name": "python3"
  },
  "language_info": {
   "codemirror_mode": {
    "name": "ipython",
    "version": 3
   },
   "file_extension": ".py",
   "mimetype": "text/x-python",
   "name": "python",
   "nbconvert_exporter": "python",
   "pygments_lexer": "ipython3",
   "version": "3.6.5"
  },
  "toc": {
   "base_numbering": 1,
   "nav_menu": {},
   "number_sections": true,
   "sideBar": true,
   "skip_h1_title": false,
   "title_cell": "Table of Contents",
   "title_sidebar": "Contents",
   "toc_cell": false,
   "toc_position": {},
   "toc_section_display": true,
   "toc_window_display": false
  }
 },
 "nbformat": 4,
 "nbformat_minor": 2
}
